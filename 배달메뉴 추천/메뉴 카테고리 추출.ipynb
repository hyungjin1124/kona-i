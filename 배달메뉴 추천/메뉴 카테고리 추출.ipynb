{
 "cells": [
  {
   "cell_type": "code",
   "execution_count": 3,
   "metadata": {},
   "outputs": [],
   "source": [
    "import pandas as pd"
   ]
  },
  {
   "cell_type": "markdown",
   "metadata": {},
   "source": [
    "카테고리 타입 키워드"
   ]
  },
  {
   "cell_type": "code",
   "execution_count": 6,
   "metadata": {},
   "outputs": [
    {
     "name": "stdout",
     "output_type": "stream",
     "text": [
      "     탕류      구이류   튀김류  볶음류   무침류  면류   치킨류    피자류  조림류  고기류  ...    커피류  \\\n",
      "0    찌개       구이    튀김   볶음    무침  국수    치킨     피자   조림   육회  ...  아메리카노   \n",
      "1   갈비탕  혼삼 오리지널   고로케  닭똥집    쏨땀  우동   레드킹  슈퍼컴퍼니  NaN   수육  ...     라떼   \n",
      "2   내장탕       그릴  치즈스틱  모래집   골뱅이  냉면   뿌링클   페퍼로니  NaN   족발  ...   마끼아또   \n",
      "3   아구탕       연탄   도너츠   잡채  가상냉채  쫄면   맛초킹   포테이토  NaN   보쌈  ...     커피   \n",
      "4  닭도리탕       직화   꽈배기  닭갈비   족뱅이  소면  후라이드  베이컨체더  NaN  삼겹살  ...   콜드브루   \n",
      "\n",
      "   디저트류    차류   채소류   소스류    반찬류 유제품류  과일류   마른안주류   꼬치류  \n",
      "0   케이크  오미자차    고추    소스   계란말이   치즈   사과      먹태    꼬치  \n",
      "1    케익   유자차    마늘  갈릭디핑    콩자반   우유   과일     아귀포    소떡  \n",
      "2    쿠키  한라봉차  명이나물   와사비    장조림   크림   포도  빠삭 꾸이포    핫바  \n",
      "3  크로와플   레몬티    쌈무  마요네즈  계란후라이  요거트  복숭아     북어포   꼬지전  \n",
      "4    와플   수정과  양파절임   비빔장    광천김  젤라토   자두   앗싸가오리  산적꼬지  \n",
      "\n",
      "[5 rows x 40 columns]\n"
     ]
    }
   ],
   "source": [
    "m_keywords_type = pd.read_csv('배달메뉴데이터/211124_category_type_keyword.csv')\n",
    "print(m_keywords_type.head())"
   ]
  },
  {
   "cell_type": "markdown",
   "metadata": {},
   "source": [
    "메인메뉴 타입 키워드"
   ]
  },
  {
   "cell_type": "code",
   "execution_count": 7,
   "metadata": {},
   "outputs": [
    {
     "name": "stdout",
     "output_type": "stream",
     "text": [
      "  main side drink dessert\n",
      "0   탕류  채소류    주류    유제품류\n",
      "1  구이류  소스류   음료류     과일류\n",
      "2  튀김류  반찬류    차류      빵류\n",
      "3  볶음류   밥류   커피류    디저트류\n",
      "4  무침류  꼬치류   NaN     NaN\n"
     ]
    }
   ],
   "source": [
    "cate_type = pd.read_csv('배달메뉴데이터/main_menu_type_list.csv')\n",
    "print(cate_type.head())"
   ]
  },
  {
   "cell_type": "code",
   "execution_count": 4,
   "metadata": {},
   "outputs": [
    {
     "data": {
      "text/html": [
       "<div>\n",
       "<style scoped>\n",
       "    .dataframe tbody tr th:only-of-type {\n",
       "        vertical-align: middle;\n",
       "    }\n",
       "\n",
       "    .dataframe tbody tr th {\n",
       "        vertical-align: top;\n",
       "    }\n",
       "\n",
       "    .dataframe thead th {\n",
       "        text-align: right;\n",
       "    }\n",
       "</style>\n",
       "<table border=\"1\" class=\"dataframe\">\n",
       "  <thead>\n",
       "    <tr style=\"text-align: right;\">\n",
       "      <th></th>\n",
       "      <th>RINDEX</th>\n",
       "      <th>PLACENAME</th>\n",
       "      <th>PLACEID</th>\n",
       "      <th>MERCHANTID</th>\n",
       "      <th>PLACECATEGORY</th>\n",
       "      <th>MENUID</th>\n",
       "      <th>MENUNAME</th>\n",
       "    </tr>\n",
       "  </thead>\n",
       "  <tbody>\n",
       "    <tr>\n",
       "      <th>0</th>\n",
       "      <td>1</td>\n",
       "      <td>BBQ 주안8동점</td>\n",
       "      <td>DMC0103165008972EM02712</td>\n",
       "      <td>410364480065801</td>\n",
       "      <td>스넥</td>\n",
       "      <td>MN0106150209459EM65052</td>\n",
       "      <td>핫 황금올리브 블랙페퍼</td>\n",
       "    </tr>\n",
       "    <tr>\n",
       "      <th>1</th>\n",
       "      <td>2</td>\n",
       "      <td>BBQ 주안8동점</td>\n",
       "      <td>DMC0103165008972EM02712</td>\n",
       "      <td>410364480065801</td>\n",
       "      <td>스넥</td>\n",
       "      <td>MN0106150209461EM16994</td>\n",
       "      <td>오리지날 콤보반반(황올+찐킹소스</td>\n",
       "    </tr>\n",
       "    <tr>\n",
       "      <th>2</th>\n",
       "      <td>3</td>\n",
       "      <td>BBQ 주안8동점</td>\n",
       "      <td>DMC0103165008972EM02712</td>\n",
       "      <td>410364480065801</td>\n",
       "      <td>스넥</td>\n",
       "      <td>MN0106150209463EM76943</td>\n",
       "      <td>오리지날 콤보반반(황올+크리스피</td>\n",
       "    </tr>\n",
       "    <tr>\n",
       "      <th>3</th>\n",
       "      <td>4</td>\n",
       "      <td>BBQ 주안8동점</td>\n",
       "      <td>DMC0103165008972EM02712</td>\n",
       "      <td>410364480065801</td>\n",
       "      <td>스넥</td>\n",
       "      <td>MN0106150209464EM41301</td>\n",
       "      <td>오리지날 콤보반반(황올+레드착착</td>\n",
       "    </tr>\n",
       "    <tr>\n",
       "      <th>4</th>\n",
       "      <td>5</td>\n",
       "      <td>BBQ 주안8동점</td>\n",
       "      <td>DMC0103165008972EM02712</td>\n",
       "      <td>410364480065801</td>\n",
       "      <td>스넥</td>\n",
       "      <td>MN0106150209470EM09798</td>\n",
       "      <td>핫 콤보반반(블랙페퍼+레드착착)</td>\n",
       "    </tr>\n",
       "  </tbody>\n",
       "</table>\n",
       "</div>"
      ],
      "text/plain": [
       "   RINDEX  PLACENAME                  PLACEID       MERCHANTID PLACECATEGORY  \\\n",
       "0       1  BBQ 주안8동점  DMC0103165008972EM02712  410364480065801            스넥   \n",
       "1       2  BBQ 주안8동점  DMC0103165008972EM02712  410364480065801            스넥   \n",
       "2       3  BBQ 주안8동점  DMC0103165008972EM02712  410364480065801            스넥   \n",
       "3       4  BBQ 주안8동점  DMC0103165008972EM02712  410364480065801            스넥   \n",
       "4       5  BBQ 주안8동점  DMC0103165008972EM02712  410364480065801            스넥   \n",
       "\n",
       "                   MENUID           MENUNAME  \n",
       "0  MN0106150209459EM65052       핫 황금올리브 블랙페퍼  \n",
       "1  MN0106150209461EM16994  오리지날 콤보반반(황올+찐킹소스  \n",
       "2  MN0106150209463EM76943  오리지날 콤보반반(황올+크리스피  \n",
       "3  MN0106150209464EM41301  오리지날 콤보반반(황올+레드착착  \n",
       "4  MN0106150209470EM09798  핫 콤보반반(블랙페퍼+레드착착)  "
      ]
     },
     "execution_count": 4,
     "metadata": {},
     "output_type": "execute_result"
    }
   ],
   "source": [
    "menu_info = pd.read_csv(\"./배달메뉴데이터/220824_가맹점메뉴정보.csv\", sep = ';')\n",
    "menu_info.head()"
   ]
  },
  {
   "cell_type": "code",
   "execution_count": null,
   "metadata": {},
   "outputs": [],
   "source": []
  }
 ],
 "metadata": {
  "kernelspec": {
   "display_name": "Python 3.8.13 ('temp_venv')",
   "language": "python",
   "name": "python3"
  },
  "language_info": {
   "codemirror_mode": {
    "name": "ipython",
    "version": 3
   },
   "file_extension": ".py",
   "mimetype": "text/x-python",
   "name": "python",
   "nbconvert_exporter": "python",
   "pygments_lexer": "ipython3",
   "version": "3.8.13"
  },
  "orig_nbformat": 4,
  "vscode": {
   "interpreter": {
    "hash": "31cc9fd63aac33e57b9eaa7e2421ac22507f84867b6df602fa38b6ee84485864"
   }
  }
 },
 "nbformat": 4,
 "nbformat_minor": 2
}
