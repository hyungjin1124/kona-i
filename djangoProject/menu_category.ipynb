{
 "cells": [
  {
   "cell_type": "markdown",
   "metadata": {},
   "source": [
    "# Json을 파싱하여 csv파일에서 메뉴 카테고리를 추출"
   ]
  },
  {
   "cell_type": "markdown",
   "metadata": {},
   "source": [
    "## Json파싱"
   ]
  },
  {
   "cell_type": "markdown",
   "metadata": {},
   "source": [
    "### Test Json"
   ]
  },
  {
   "cell_type": "code",
   "execution_count": 66,
   "metadata": {},
   "outputs": [],
   "source": [
    "req = [\n",
    "    {\n",
    "    \"menu\":\"김치찌개\", \n",
    "    \"menuId\": \"MN022409XXXXXXXXX\",\n",
    "    \"placeId\" : \"MN0224091346XXXXXXXXXX\",\n",
    "    \"placeName\" : \"엄선생포장마차\",\n",
    "    \"merchantId\" : \"41066202XXXXXXX\"\n",
    "    },\n",
    "    {\n",
    "    \"menu\":\"불고기덮밥\",\n",
    "    \"menuId\": \"MN022409XXXXXXXXX\",\n",
    "    \"placeId\" : \"MN0224091346XXXXXXXXXX\",\n",
    "    \"placeName\" : \"엄선생포장마차\",\n",
    "    \"merchantId\" : \"41066202XXXXXXX\"\n",
    "    }\n",
    "]"
   ]
  },
  {
   "cell_type": "code",
   "execution_count": 69,
   "metadata": {},
   "outputs": [
    {
     "name": "stdout",
     "output_type": "stream",
     "text": [
      "['김치찌개', '불고기덮밥', '김형진']\n"
     ]
    }
   ],
   "source": [
    "menu_list = [i.get('menu') for i in req]\n",
    "print(menu_list)"
   ]
  },
  {
   "cell_type": "markdown",
   "metadata": {},
   "source": [
    "## 메뉴 카테고리 추출"
   ]
  },
  {
   "cell_type": "code",
   "execution_count": 1,
   "metadata": {},
   "outputs": [],
   "source": [
    "import pandas as pd "
   ]
  },
  {
   "cell_type": "markdown",
   "metadata": {},
   "source": [
    "### csv파일 로드"
   ]
  },
  {
   "cell_type": "markdown",
   "metadata": {},
   "source": [
    "카테고리 타입 키워드"
   ]
  },
  {
   "cell_type": "code",
   "execution_count": 6,
   "metadata": {},
   "outputs": [
    {
     "name": "stdout",
     "output_type": "stream",
     "text": [
      "     탕류      구이류   튀김류  볶음류   무침류  면류   치킨류    피자류  조림류  고기류  ...    커피류  \\\n",
      "0    찌개       구이    튀김   볶음    무침  국수    치킨     피자   조림   육회  ...  아메리카노   \n",
      "1   갈비탕  혼삼 오리지널   고로케  닭똥집    쏨땀  우동   레드킹  슈퍼컴퍼니  NaN   수육  ...     라떼   \n",
      "2   내장탕       그릴  치즈스틱  모래집   골뱅이  냉면   뿌링클   페퍼로니  NaN   족발  ...   마끼아또   \n",
      "3   아구탕       연탄   도너츠   잡채  가상냉채  쫄면   맛초킹   포테이토  NaN   보쌈  ...     커피   \n",
      "4  닭도리탕       직화   꽈배기  닭갈비   족뱅이  소면  후라이드  베이컨체더  NaN  삼겹살  ...   콜드브루   \n",
      "\n",
      "   디저트류    차류   채소류   소스류    반찬류 유제품류  과일류   마른안주류   꼬치류  \n",
      "0   케이크  오미자차    고추    소스   계란말이   치즈   사과      먹태    꼬치  \n",
      "1    케익   유자차    마늘  갈릭디핑    콩자반   우유   과일     아귀포    소떡  \n",
      "2    쿠키  한라봉차  명이나물   와사비    장조림   크림   포도  빠삭 꾸이포    핫바  \n",
      "3  크로와플   레몬티    쌈무  마요네즈  계란후라이  요거트  복숭아     북어포   꼬지전  \n",
      "4    와플   수정과  양파절임   비빔장    광천김  젤라토   자두   앗싸가오리  산적꼬지  \n",
      "\n",
      "[5 rows x 40 columns]\n"
     ]
    }
   ],
   "source": [
    "m_keywords_type = pd.read_csv('./211124_category_type_keyword.csv')\n",
    "print(m_keywords_type.head())\n"
   ]
  },
  {
   "cell_type": "markdown",
   "metadata": {},
   "source": [
    "메인메뉴 타입 키워드"
   ]
  },
  {
   "cell_type": "code",
   "execution_count": 7,
   "metadata": {},
   "outputs": [
    {
     "name": "stdout",
     "output_type": "stream",
     "text": [
      "  main side drink dessert\n",
      "0   탕류  채소류    주류    유제품류\n",
      "1  구이류  소스류   음료류     과일류\n",
      "2  튀김류  반찬류    차류      빵류\n",
      "3  볶음류   밥류   커피류    디저트류\n",
      "4  무침류  꼬치류   NaN     NaN\n"
     ]
    }
   ],
   "source": [
    "cate_type = pd.read_csv('main_menu_type_list.csv')\n",
    "print(cate_type.head())"
   ]
  },
  {
   "cell_type": "markdown",
   "metadata": {},
   "source": [
    "메인메뉴에 속하는 카테고리만 추출"
   ]
  },
  {
   "cell_type": "code",
   "execution_count": 19,
   "metadata": {},
   "outputs": [
    {
     "data": {
      "text/plain": [
       "['탕류', '구이류', '튀김류', '볶음류', '무침류']"
      ]
     },
     "execution_count": 19,
     "metadata": {},
     "output_type": "execute_result"
    }
   ],
   "source": [
    "main_cate = cate_type.main.to_list()\n",
    "main_cate[:5]"
   ]
  },
  {
   "cell_type": "markdown",
   "metadata": {},
   "source": [
    "메인메뉴에 속하지 않는 카테고리들은 제외"
   ]
  },
  {
   "cell_type": "code",
   "execution_count": 24,
   "metadata": {},
   "outputs": [
    {
     "name": "stdout",
     "output_type": "stream",
     "text": [
      "Index(['탕류', '구이류', '튀김류', '볶음류', '무침류', '면류', '치킨류', '피자류', '조림류', '고기류',\n",
      "       '라면류', '해산물류', '회류', '생선류', '돈까스류', '일식류', '한식류', '죽류', '중식류', '떡볶이류',\n",
      "       '세트류', '분식류', '도시락류', '양식류', '찜류', '버거류', '빵류', '주류', '음료류', '밥류',\n",
      "       '커피류', '디저트류', '차류', '채소류', '소스류', '반찬류', '유제품류', '과일류', '마른안주류',\n",
      "       '꼬치류'],\n",
      "      dtype='object')\n",
      "Index(['탕류', '구이류', '튀김류', '볶음류', '무침류', '면류', '치킨류', '피자류', '조림류', '고기류',\n",
      "       '라면류', '해산물류', '회류', '생선류', '돈까스류', '일식류', '한식류', '죽류', '중식류', '떡볶이류',\n",
      "       '세트류', '분식류', '도시락류', '양식류', '찜류', '버거류'],\n",
      "      dtype='object')\n"
     ]
    }
   ],
   "source": [
    "not_main = [cate for cate in m_keywords_type.columns if cate not in main_cate]\n",
    "m_keywords_type.drop(columns=not_main, inplace=True)"
   ]
  },
  {
   "cell_type": "code",
   "execution_count": 26,
   "metadata": {},
   "outputs": [
    {
     "data": {
      "text/html": [
       "<div>\n",
       "<style scoped>\n",
       "    .dataframe tbody tr th:only-of-type {\n",
       "        vertical-align: middle;\n",
       "    }\n",
       "\n",
       "    .dataframe tbody tr th {\n",
       "        vertical-align: top;\n",
       "    }\n",
       "\n",
       "    .dataframe thead th {\n",
       "        text-align: right;\n",
       "    }\n",
       "</style>\n",
       "<table border=\"1\" class=\"dataframe\">\n",
       "  <thead>\n",
       "    <tr style=\"text-align: right;\">\n",
       "      <th></th>\n",
       "      <th>탕류</th>\n",
       "      <th>구이류</th>\n",
       "      <th>튀김류</th>\n",
       "      <th>볶음류</th>\n",
       "      <th>무침류</th>\n",
       "      <th>면류</th>\n",
       "      <th>치킨류</th>\n",
       "      <th>피자류</th>\n",
       "      <th>조림류</th>\n",
       "      <th>고기류</th>\n",
       "      <th>...</th>\n",
       "      <th>한식류</th>\n",
       "      <th>죽류</th>\n",
       "      <th>중식류</th>\n",
       "      <th>떡볶이류</th>\n",
       "      <th>세트류</th>\n",
       "      <th>분식류</th>\n",
       "      <th>도시락류</th>\n",
       "      <th>양식류</th>\n",
       "      <th>찜류</th>\n",
       "      <th>버거류</th>\n",
       "    </tr>\n",
       "  </thead>\n",
       "  <tbody>\n",
       "    <tr>\n",
       "      <th>0</th>\n",
       "      <td>찌개</td>\n",
       "      <td>구이</td>\n",
       "      <td>튀김</td>\n",
       "      <td>볶음</td>\n",
       "      <td>무침</td>\n",
       "      <td>국수</td>\n",
       "      <td>치킨</td>\n",
       "      <td>피자</td>\n",
       "      <td>조림</td>\n",
       "      <td>육회</td>\n",
       "      <td>...</td>\n",
       "      <td>공기밥</td>\n",
       "      <td>알죽</td>\n",
       "      <td>짬뽕</td>\n",
       "      <td>떢볶이</td>\n",
       "      <td>세트</td>\n",
       "      <td>떡볶이</td>\n",
       "      <td>도시락</td>\n",
       "      <td>스파게티</td>\n",
       "      <td>찜</td>\n",
       "      <td>햄버거</td>\n",
       "    </tr>\n",
       "    <tr>\n",
       "      <th>1</th>\n",
       "      <td>갈비탕</td>\n",
       "      <td>혼삼 오리지널</td>\n",
       "      <td>고로케</td>\n",
       "      <td>닭똥집</td>\n",
       "      <td>쏨땀</td>\n",
       "      <td>우동</td>\n",
       "      <td>레드킹</td>\n",
       "      <td>슈퍼컴퍼니</td>\n",
       "      <td>NaN</td>\n",
       "      <td>수육</td>\n",
       "      <td>...</td>\n",
       "      <td>된장찌개</td>\n",
       "      <td>낙죽</td>\n",
       "      <td>짜장면</td>\n",
       "      <td>떡볶이</td>\n",
       "      <td>SET</td>\n",
       "      <td>김밥</td>\n",
       "      <td>메가 스리라차 참차치마요</td>\n",
       "      <td>오믈렛</td>\n",
       "      <td>해물찜</td>\n",
       "      <td>버거</td>\n",
       "    </tr>\n",
       "    <tr>\n",
       "      <th>2</th>\n",
       "      <td>내장탕</td>\n",
       "      <td>그릴</td>\n",
       "      <td>치즈스틱</td>\n",
       "      <td>모래집</td>\n",
       "      <td>골뱅이</td>\n",
       "      <td>냉면</td>\n",
       "      <td>뿌링클</td>\n",
       "      <td>페퍼로니</td>\n",
       "      <td>NaN</td>\n",
       "      <td>족발</td>\n",
       "      <td>...</td>\n",
       "      <td>김치찌개</td>\n",
       "      <td>송이죽</td>\n",
       "      <td>탕수육</td>\n",
       "      <td>닭볶이</td>\n",
       "      <td>셋트</td>\n",
       "      <td>라볶이</td>\n",
       "      <td>돈치마요</td>\n",
       "      <td>비프</td>\n",
       "      <td>아구찜</td>\n",
       "      <td>풀드포크</td>\n",
       "    </tr>\n",
       "    <tr>\n",
       "      <th>3</th>\n",
       "      <td>아구탕</td>\n",
       "      <td>연탄</td>\n",
       "      <td>도너츠</td>\n",
       "      <td>잡채</td>\n",
       "      <td>가상냉채</td>\n",
       "      <td>쫄면</td>\n",
       "      <td>맛초킹</td>\n",
       "      <td>포테이토</td>\n",
       "      <td>NaN</td>\n",
       "      <td>보쌈</td>\n",
       "      <td>...</td>\n",
       "      <td>순두부찌개</td>\n",
       "      <td>미역죽</td>\n",
       "      <td>양장피</td>\n",
       "      <td>컵볶이</td>\n",
       "      <td>모다기</td>\n",
       "      <td>라면</td>\n",
       "      <td>동백</td>\n",
       "      <td>스튜</td>\n",
       "      <td>낙지찜</td>\n",
       "      <td>BLT</td>\n",
       "    </tr>\n",
       "    <tr>\n",
       "      <th>4</th>\n",
       "      <td>닭도리탕</td>\n",
       "      <td>직화</td>\n",
       "      <td>꽈배기</td>\n",
       "      <td>닭갈비</td>\n",
       "      <td>족뱅이</td>\n",
       "      <td>소면</td>\n",
       "      <td>후라이드</td>\n",
       "      <td>베이컨체더</td>\n",
       "      <td>NaN</td>\n",
       "      <td>삼겹살</td>\n",
       "      <td>...</td>\n",
       "      <td>부대찌개</td>\n",
       "      <td>굴죽</td>\n",
       "      <td>군만두</td>\n",
       "      <td>달달덕복희</td>\n",
       "      <td>Set</td>\n",
       "      <td>상추튀김</td>\n",
       "      <td>국화</td>\n",
       "      <td>스테이크</td>\n",
       "      <td>꼬막찜</td>\n",
       "      <td>홈더블팩</td>\n",
       "    </tr>\n",
       "  </tbody>\n",
       "</table>\n",
       "<p>5 rows × 26 columns</p>\n",
       "</div>"
      ],
      "text/plain": [
       "     탕류      구이류   튀김류  볶음류   무침류  면류   치킨류    피자류  조림류  고기류  ...    한식류   죽류  \\\n",
       "0    찌개       구이    튀김   볶음    무침  국수    치킨     피자   조림   육회  ...    공기밥   알죽   \n",
       "1   갈비탕  혼삼 오리지널   고로케  닭똥집    쏨땀  우동   레드킹  슈퍼컴퍼니  NaN   수육  ...   된장찌개   낙죽   \n",
       "2   내장탕       그릴  치즈스틱  모래집   골뱅이  냉면   뿌링클   페퍼로니  NaN   족발  ...   김치찌개  송이죽   \n",
       "3   아구탕       연탄   도너츠   잡채  가상냉채  쫄면   맛초킹   포테이토  NaN   보쌈  ...  순두부찌개  미역죽   \n",
       "4  닭도리탕       직화   꽈배기  닭갈비   족뱅이  소면  후라이드  베이컨체더  NaN  삼겹살  ...   부대찌개   굴죽   \n",
       "\n",
       "   중식류   떡볶이류  세트류   분식류           도시락류   양식류   찜류   버거류  \n",
       "0   짬뽕    떢볶이   세트   떡볶이            도시락  스파게티    찜   햄버거  \n",
       "1  짜장면    떡볶이  SET    김밥  메가 스리라차 참차치마요   오믈렛  해물찜    버거  \n",
       "2  탕수육    닭볶이   셋트   라볶이           돈치마요    비프  아구찜  풀드포크  \n",
       "3  양장피    컵볶이  모다기    라면             동백    스튜  낙지찜   BLT  \n",
       "4  군만두  달달덕복희  Set  상추튀김             국화  스테이크  꼬막찜  홈더블팩  \n",
       "\n",
       "[5 rows x 26 columns]"
      ]
     },
     "execution_count": 26,
     "metadata": {},
     "output_type": "execute_result"
    }
   ],
   "source": [
    "m_keywords_type.head()"
   ]
  },
  {
   "cell_type": "code",
   "execution_count": 63,
   "metadata": {},
   "outputs": [
    {
     "name": "stdout",
     "output_type": "stream",
     "text": [
      "[{'김치찌개': ['탕류', '한식류']}, {'불고기덮밥': ['고기류', '한식류']}]\n"
     ]
    }
   ],
   "source": [
    "# menu_list = [\"김치찌개\", \"불고기덮밥\"]\n",
    "total_list = []\n",
    "for menu in menu_list:\n",
    "    res_dict = {}\n",
    "    cate_list = []\n",
    "    for col_name, keywords in m_keywords_type.iteritems():\n",
    "        for key in keywords:\n",
    "            if pd.isna(key):\n",
    "                break\n",
    "            elif key in menu:\n",
    "                if col_name not in cate_list:\n",
    "                    cate_list.append(col_name)\n",
    "    res_dict[menu] = cate_list \n",
    "    total_list.append(res_dict)\n",
    "print(total_list)"
   ]
  },
  {
   "cell_type": "markdown",
   "metadata": {},
   "source": [
    "### 함수"
   ]
  },
  {
   "cell_type": "code",
   "execution_count": 70,
   "metadata": {},
   "outputs": [],
   "source": [
    "def ext_info(m_keywords_type, cate_type, menu_list):\n",
    "    main_cate = cate_type.main.to_list()\n",
    "    not_main = [cate for cate in m_keywords_type if cate not in main_cate]\n",
    "    m_keywords_type.drop(columns = not_main, inplace = True)\n",
    "\n",
    "    total_list = []\n",
    "    for menu in menu_list:\n",
    "        res_dict = {}\n",
    "        cate_list = []\n",
    "        for col_name, keywords in m_keywords_type.iteritems():\n",
    "            for key in keywords:\n",
    "                if pd.isna(key):\n",
    "                    break\n",
    "                elif key in menu:\n",
    "                    if col_name not in cate_list:\n",
    "                        cate_list.append(col_name)\n",
    "        res_dict[menu] = cate_list\n",
    "        total_list.append(res_dict)\n",
    "    \n",
    "    return total_list"
   ]
  },
  {
   "cell_type": "code",
   "execution_count": 72,
   "metadata": {},
   "outputs": [
    {
     "name": "stdout",
     "output_type": "stream",
     "text": [
      "[{'김치찌개': ['탕류', '한식류']}, {'불고기덮밥': ['고기류', '한식류']}, {'김형진': []}]\n"
     ]
    }
   ],
   "source": [
    "result = ext_info(m_keywords_type, cate_type, menu_list)\n",
    "print(result)"
   ]
  },
  {
   "cell_type": "code",
   "execution_count": 76,
   "metadata": {},
   "outputs": [
    {
     "name": "stdout",
     "output_type": "stream",
     "text": [
      "dict_keys(['김치찌개'])\n",
      "dict_keys(['불고기덮밥'])\n",
      "dict_keys(['김형진'])\n"
     ]
    }
   ],
   "source": [
    "for i in result:\n",
    "    print(i.keys())"
   ]
  },
  {
   "cell_type": "code",
   "execution_count": null,
   "metadata": {},
   "outputs": [],
   "source": []
  }
 ],
 "metadata": {
  "kernelspec": {
   "display_name": "Python 3.8.13 ('temp_venv')",
   "language": "python",
   "name": "python3"
  },
  "language_info": {
   "codemirror_mode": {
    "name": "ipython",
    "version": 3
   },
   "file_extension": ".py",
   "mimetype": "text/x-python",
   "name": "python",
   "nbconvert_exporter": "python",
   "pygments_lexer": "ipython3",
   "version": "3.8.13"
  },
  "orig_nbformat": 4,
  "vscode": {
   "interpreter": {
    "hash": "31cc9fd63aac33e57b9eaa7e2421ac22507f84867b6df602fa38b6ee84485864"
   }
  }
 },
 "nbformat": 4,
 "nbformat_minor": 2
}
