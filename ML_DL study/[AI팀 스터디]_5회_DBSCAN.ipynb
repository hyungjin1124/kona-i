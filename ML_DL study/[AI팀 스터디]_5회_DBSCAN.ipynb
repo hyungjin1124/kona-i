{
 "cells": [
  {
   "cell_type": "markdown",
   "id": "87159c2d",
   "metadata": {},
   "source": [
    "# 군집분석(Clustering)\n",
    "* 개체들을 분류(classification)하기 위한 기준이 없는 상태에서 주어진 데이터의 속성값들을 고려해 유사한 개체끼리 그룹(클러스터)화하는 방법(비지도 학습)\n",
    "* 그룹내 차이는 줄이고 그룹간 차이는 최대화 하도록 하여 대표성을 찾는 원리로 구현되는 것이 일반적\n",
    "\n",
    "#### 계층적 군집분석(Hierarchical Clustering) \n",
    "\n",
    "#### 비계층적 군집분석(Non-Hierarchical Clustering)\n",
    "* 중심 기반(Center-based): K-means\n",
    "* 밀도 기반(Density-based): DBSCAN\n",
    "    \n"
   ]
  },
  {
   "cell_type": "markdown",
   "id": "c6a0973a",
   "metadata": {},
   "source": [
    "# DBSCAN\n",
    "#### DBSCAN의 개념\n",
    "* Density-based spatial clustering of applications with noise\n",
    "* \"밀도기반?\" = 어느점을 기준으로 반경 x내에 점이 n개 이상 있으면 하나의 군집으로 인식하는 방식\n",
    "\n",
    "#### DBSCAN의 원리\n"
   ]
  }
 ],
 "metadata": {
  "kernelspec": {
   "display_name": "temp_venv",
   "language": "python",
   "name": "temp_venv"
  },
  "language_info": {
   "codemirror_mode": {
    "name": "ipython",
    "version": 3
   },
   "file_extension": ".py",
   "mimetype": "text/x-python",
   "name": "python",
   "nbconvert_exporter": "python",
   "pygments_lexer": "ipython3",
   "version": "3.9.12"
  }
 },
 "nbformat": 4,
 "nbformat_minor": 5
}
